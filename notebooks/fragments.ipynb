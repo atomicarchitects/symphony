{
 "cells": [
  {
   "cell_type": "code",
   "execution_count": 10,
   "metadata": {},
   "outputs": [],
   "source": [
    "from ase import Atoms\n",
    "from ase.visualize import view\n",
    "import jax\n",
    "import jax.numpy as jnp\n",
    "from matplotlib import pyplot as plt\n",
    "import numpy as np\n",
    "import os\n",
    "import pandas as pd\n",
    "import pickle\n",
    "import re\n",
    "import sys\n",
    "import tensorflow as tf\n",
    "import tqdm\n",
    "from typing import List, Sequence\n",
    "sys.path.append(\"../\")\n",
    "\n",
    "from symphony.data import input_pipeline_tf"
   ]
  },
  {
   "cell_type": "code",
   "execution_count": 3,
   "metadata": {},
   "outputs": [],
   "source": [
    "workdirs = {\n",
    "    \"nn_edm_1\": \"/radish/qm9_fragments_fixed_mad/nn_edm/max_targets_1/\",\n",
    "    \"nn_edm_4\": \"/radish/qm9_fragments_fixed_mad/nn_edm/max_targets_4/\",\n",
    "    \"radius_1\":\"/radish/qm9_fragments_fixed_mad/radius/max_targets_1\",\n",
    "    \"radius_4\":\"/radish/qm9_fragments_fixed_mad/radius/max_targets_4\",\n",
    "}"
   ]
  },
  {
   "cell_type": "code",
   "execution_count": 11,
   "metadata": {},
   "outputs": [],
   "source": [
    "atomic_numbers = jnp.array([1, 6, 7, 8, 9])\n",
    "numbers_to_symbols = {1: 'H', 6: 'C', 7: 'N', 8: 'O', 9: 'F'}\n",
    "elements = list(numbers_to_symbols.values())\n",
    "\n",
    "# covalent bond radii, in angstroms\n",
    "element_radii = [0.32, 0.75, 0.71, 0.63, 0.64]\n",
    "\n",
    "def get_numbers(species: jnp.ndarray):\n",
    "    numbers = []\n",
    "    for i in species:\n",
    "        numbers.append(atomic_numbers[i])\n",
    "    return jnp.array(numbers)"
   ]
  },
  {
   "cell_type": "code",
   "execution_count": 4,
   "metadata": {},
   "outputs": [],
   "source": [
    "def get_dataset(method, seed=0):\n",
    "    # Set the seed for reproducibility.\n",
    "    tf.random.set_seed(seed)\n",
    "\n",
    "    # Root directory of the dataset.\n",
    "    filenames = sorted(os.listdir(workdirs[method]))\n",
    "    filenames = [\n",
    "        os.path.join(workdirs[method], f)\n",
    "        for f in filenames\n",
    "        if f.startswith(\"fragments_\")\n",
    "    ]\n",
    "    if len(filenames) == 0:\n",
    "        raise ValueError(f\"No files found in {workdirs[method]}.\")\n",
    "\n",
    "    # Partition the filenames into train, val, and test.\n",
    "    def filter_by_molecule_number(\n",
    "        filenames: Sequence[str], start: int, end: int\n",
    "    ) -> List[str]:\n",
    "        def filter_file(filename: str, start: int, end: int) -> bool:\n",
    "            filename = os.path.basename(filename)\n",
    "            _, file_start, file_end = [int(val) for val in re.findall(r\"\\d+\", filename)]\n",
    "            return start <= file_start and file_end <= end\n",
    "\n",
    "        return [f for f in filenames if filter_file(f, start, end)]\n",
    "\n",
    "    # Number of molecules for training can be smaller than the chunk size.\n",
    "    all_files = filter_by_molecule_number(filenames, 0, 135000),\n",
    "\n",
    "    element_spec = tf.data.Dataset.load(filenames[0]).element_spec\n",
    "    dataset = tf.data.Dataset.from_tensor_slices(all_files)\n",
    "    dataset = dataset.interleave(\n",
    "        lambda x: tf.data.Dataset.load(x, element_spec=element_spec),\n",
    "        num_parallel_calls=tf.data.AUTOTUNE,\n",
    "        deterministic=True,\n",
    "    )\n",
    "\n",
    "    # Shuffle the dataset.\n",
    "    dataset = dataset.shuffle(1000, seed=seed)\n",
    "\n",
    "    # Convert to jraph.GraphsTuple.\n",
    "    dataset = dataset.map(\n",
    "        input_pipeline_tf._convert_to_graphstuple,\n",
    "        num_parallel_calls=tf.data.AUTOTUNE,\n",
    "        deterministic=True,\n",
    "    )\n",
    "\n",
    "    return dataset"
   ]
  },
  {
   "cell_type": "code",
   "execution_count": 78,
   "metadata": {},
   "outputs": [
    {
     "name": "stderr",
     "output_type": "stream",
     "text": [
      "[libprotobuf ERROR external/com_google_protobuf/src/google/protobuf/text_format.cc:337] Error parsing text-format tensorflow.data.experimental.DistributedSnapshotMetadata: 1:1: Invalid control characters encountered in text.\n",
      "[libprotobuf ERROR external/com_google_protobuf/src/google/protobuf/text_format.cc:337] Error parsing text-format tensorflow.data.experimental.DistributedSnapshotMetadata: 1:3: Expected identifier, got: 12778021976030521269\n"
     ]
    }
   ],
   "source": [
    "dataset = get_dataset(\"nn_edm_1\")\n",
    "dataset_iter = dataset.as_numpy_iterator();"
   ]
  },
  {
   "cell_type": "code",
   "execution_count": 83,
   "metadata": {},
   "outputs": [],
   "source": [
    "graph = next(dataset_iter);"
   ]
  },
  {
   "cell_type": "code",
   "execution_count": 84,
   "metadata": {},
   "outputs": [],
   "source": [
    "positions_list = graph.nodes.positions\n",
    "species_list = graph.nodes.species\n",
    "focus_and_target_species_probs = graph.nodes.focus_and_target_species_probs\n",
    "num_nodes = graph.n_node.item()\n",
    "focus_probs = focus_and_target_species_probs.sum(axis=-1)\n",
    "focus_position = positions_list[0]\n",
    "target_positions = graph.globals.target_positions[0]\n",
    "target_species = graph.globals.target_species.item()"
   ]
  },
  {
   "cell_type": "code",
   "execution_count": 85,
   "metadata": {},
   "outputs": [
    {
     "data": {
      "text/plain": [
       "array([1.0862628], dtype=float32)"
      ]
     },
     "execution_count": 85,
     "metadata": {},
     "output_type": "execute_result"
    }
   ],
   "source": [
    "np.linalg.norm(target_positions, axis=-1)  # C-C: 1.54 angstroms, C-H: 1.09 angstroms"
   ]
  },
  {
   "cell_type": "code",
   "execution_count": 90,
   "metadata": {},
   "outputs": [
    {
     "data": {
      "text/plain": [
       "86"
      ]
     },
     "execution_count": 90,
     "metadata": {},
     "output_type": "execute_result"
    }
   ],
   "source": [
    "len(set(zip(graph.senders, graph.receivers)))"
   ]
  },
  {
   "cell_type": "code",
   "execution_count": 87,
   "metadata": {},
   "outputs": [
    {
     "data": {
      "text/plain": [
       "array([10], dtype=int32)"
      ]
     },
     "execution_count": 87,
     "metadata": {},
     "output_type": "execute_result"
    }
   ],
   "source": [
    "graph.n_node"
   ]
  },
  {
   "cell_type": "code",
   "execution_count": 76,
   "metadata": {},
   "outputs": [
    {
     "data": {
      "application/vnd.jupyter.widget-view+json": {
       "model_id": "0dff2acb9fa244208e8252d40a0815d7",
       "version_major": 2,
       "version_minor": 0
      },
      "text/plain": [
       "HBox(children=(NGLWidget(), VBox(children=(Dropdown(description='Show', options=('All', 'O', 'H', 'C'), value=…"
      ]
     },
     "execution_count": 76,
     "metadata": {},
     "output_type": "execute_result"
    }
   ],
   "source": [
    "mol_atoms = Atoms(positions=positions_list, numbers=get_numbers(species_list))\n",
    "v = view(mol_atoms, viewer='ngl')\n",
    "\n",
    "# add true focus highlight\n",
    "v.view.shape.add_sphere(\n",
    "    focus_position,\n",
    "    [0, 1, 0],\n",
    "    element_radii[species_list[0]] * 0.6,\n",
    "    f\"{elements[species_list[0]]}: true focus (probability {focus_probs.tolist()[0]:.3f})\",\n",
    ")\n",
    "v.view.update_representation(component=1, opacity=0.4)\n",
    "\n",
    "for target_position in target_positions:\n",
    "    # add the target atom\n",
    "    v.view.shape.add_sphere(\n",
    "        (target_position+focus_position).tolist(),\n",
    "        [0, 1, 1],\n",
    "        element_radii[target_species] * 0.5,\n",
    "        f\"target atom: {elements[target_species]}\",\n",
    "    )\n",
    "\n",
    "# for s, r in zip(graph.senders, graph.receivers):\n",
    "#     pos_s = positions_list[s]\n",
    "#     pos_r = positions_list[r]\n",
    "#     v.view.shape.add_arrow(\n",
    "#         pos_s.tolist(),\n",
    "#         pos_r.tolist(),\n",
    "#         [1, 0.85, 0],\n",
    "#         0.1,\n",
    "#         f'distance: {jnp.linalg.norm(pos_s - pos_r):.3f} A'\n",
    "#     )\n",
    "\n",
    "v"
   ]
  },
  {
   "cell_type": "code",
   "execution_count": null,
   "metadata": {},
   "outputs": [],
   "source": []
  }
 ],
 "metadata": {
  "kernelspec": {
   "display_name": "sh-net",
   "language": "python",
   "name": "python3"
  },
  "language_info": {
   "codemirror_mode": {
    "name": "ipython",
    "version": 3
   },
   "file_extension": ".py",
   "mimetype": "text/x-python",
   "name": "python",
   "nbconvert_exporter": "python",
   "pygments_lexer": "ipython3",
   "version": "3.10.13"
  }
 },
 "nbformat": 4,
 "nbformat_minor": 2
}
